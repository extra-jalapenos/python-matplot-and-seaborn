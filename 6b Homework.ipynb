{
 "cells": [
  {
   "cell_type": "markdown",
   "id": "f839c008-b033-453e-8b8b-3d75e873358b",
   "metadata": {},
   "source": [
    "# Data Visualisation"
   ]
  },
  {
   "cell_type": "markdown",
   "id": "c003c280-b586-422a-a747-a77bbf927edc",
   "metadata": {},
   "source": [
    "### Homework"
   ]
  },
  {
   "cell_type": "markdown",
   "id": "6965b421-ec8c-4cb4-a9d7-e731a68a1a36",
   "metadata": {},
   "source": [
    "Before you begin, remember to import the necessary libraries."
   ]
  },
  {
   "cell_type": "code",
   "execution_count": 1,
   "id": "7f4acec8-b08e-4f11-9a06-c9147407b102",
   "metadata": {},
   "outputs": [],
   "source": [
    "import numpy as np\n",
    "import pandas as pd\n",
    "\n",
    "%matplotlib inline\n",
    "import matplotlib\n",
    "import matplotlib.pyplot as plt\n",
    "\n",
    "import seaborn as sns\n",
    "sns.set_theme()"
   ]
  },
  {
   "cell_type": "markdown",
   "id": "01fcbe22-4505-4dd2-be85-6e19e5918daf",
   "metadata": {},
   "source": [
    "#### Standard Exercises"
   ]
  },
  {
   "cell_type": "code",
   "execution_count": 2,
   "id": "221616f8-bf02-4f02-b1d6-3aedf8bf7279",
   "metadata": {},
   "outputs": [
    {
     "data": {
      "text/html": [
       "<div>\n",
       "<style scoped>\n",
       "    .dataframe tbody tr th:only-of-type {\n",
       "        vertical-align: middle;\n",
       "    }\n",
       "\n",
       "    .dataframe tbody tr th {\n",
       "        vertical-align: top;\n",
       "    }\n",
       "\n",
       "    .dataframe thead th {\n",
       "        text-align: right;\n",
       "    }\n",
       "</style>\n",
       "<table border=\"1\" class=\"dataframe\">\n",
       "  <thead>\n",
       "    <tr style=\"text-align: right;\">\n",
       "      <th></th>\n",
       "      <th>day_number</th>\n",
       "      <th>pos_trend</th>\n",
       "      <th>neg_trend</th>\n",
       "    </tr>\n",
       "  </thead>\n",
       "  <tbody>\n",
       "    <tr>\n",
       "      <th>0</th>\n",
       "      <td>1</td>\n",
       "      <td>26.579580</td>\n",
       "      <td>58.750123</td>\n",
       "    </tr>\n",
       "    <tr>\n",
       "      <th>1</th>\n",
       "      <td>2</td>\n",
       "      <td>26.143981</td>\n",
       "      <td>42.515431</td>\n",
       "    </tr>\n",
       "    <tr>\n",
       "      <th>2</th>\n",
       "      <td>3</td>\n",
       "      <td>21.663537</td>\n",
       "      <td>43.746520</td>\n",
       "    </tr>\n",
       "    <tr>\n",
       "      <th>3</th>\n",
       "      <td>4</td>\n",
       "      <td>47.411789</td>\n",
       "      <td>57.341568</td>\n",
       "    </tr>\n",
       "    <tr>\n",
       "      <th>4</th>\n",
       "      <td>5</td>\n",
       "      <td>35.493312</td>\n",
       "      <td>37.894608</td>\n",
       "    </tr>\n",
       "  </tbody>\n",
       "</table>\n",
       "</div>"
      ],
      "text/plain": [
       "   day_number  pos_trend  neg_trend\n",
       "0           1  26.579580  58.750123\n",
       "1           2  26.143981  42.515431\n",
       "2           3  21.663537  43.746520\n",
       "3           4  47.411789  57.341568\n",
       "4           5  35.493312  37.894608"
      ]
     },
     "execution_count": 2,
     "metadata": {},
     "output_type": "execute_result"
    }
   ],
   "source": [
    "rndm = pd.DataFrame({'day_number':range(1,90), \n",
    "                     'pos_trend':np.random.rand(len(range(1,90)))*50 + range(1,90), \n",
    "                     'neg_trend':np.random.rand(len(range(1,90)))*50 + 25 - range(1,90), })\n",
    "rndm.head()"
   ]
  },
  {
   "cell_type": "markdown",
   "id": "596400e6-6984-4afc-a589-81dc1bf7c0f4",
   "metadata": {},
   "source": [
    "1. Given the above DataFrame `rndm`, use Matplotlib to plot a linechart showing the evolution of the `pos_trend` variable. Then, on the same chart, plot also the `neg_trend` column."
   ]
  },
  {
   "cell_type": "code",
   "execution_count": null,
   "id": "c25b600d-033b-4e58-bbc1-7912bdef3189",
   "metadata": {},
   "outputs": [],
   "source": []
  },
  {
   "cell_type": "markdown",
   "id": "163b7755-92e3-4222-8608-53c48ee04463",
   "metadata": {},
   "source": [
    "2. Add a title, labels for the x- and y-axes and a legend as per the following instructions:\n",
    "- title: \"Direct vs Inverse relationship\"\n",
    "- xlabel: \"Days\"\n",
    "- ylabel: \"Value\"\n",
    "- legend: label the pos_trend as \"direct\" and the neg_trend as \"inverse\"; position it in the \"upper left\" corner"
   ]
  },
  {
   "cell_type": "code",
   "execution_count": null,
   "id": "3e27524c-40ab-49ff-afd6-e77219c278f1",
   "metadata": {},
   "outputs": [],
   "source": []
  },
  {
   "cell_type": "markdown",
   "id": "b774ab99-f1be-42b1-82ed-436f862cc913",
   "metadata": {},
   "source": [
    "3. Using the Seaborn library, load the `diamonds` dataset and save it to a DataFrame object named `dd`. Check the contents of the dataset.  "
   ]
  },
  {
   "cell_type": "code",
   "execution_count": null,
   "id": "730815b7-dbe3-4829-87af-78f7838673c0",
   "metadata": {},
   "outputs": [],
   "source": []
  },
  {
   "cell_type": "markdown",
   "id": "5baa2bbf-afc7-4c79-88b6-c175c57411c1",
   "metadata": {},
   "source": [
    "4. Create a new DataFrame having the average `carat` and `price` grouped by the `clarity` of the diamond. (hint: check out [this guide](https://4cs.gia.edu/en-us/diamond-clarity/) for a reference on what each clarity category name means. *(hint: the carat of a stone represents its size)*"
   ]
  },
  {
   "cell_type": "code",
   "execution_count": null,
   "id": "9c9720e6-ddd0-4caf-93de-0f113d7c4dfb",
   "metadata": {},
   "outputs": [],
   "source": []
  },
  {
   "cell_type": "markdown",
   "id": "a92270d1-86dc-4337-b5f9-039de23d2be2",
   "metadata": {},
   "source": [
    "5. Create a bar chart showing the average `price` per `clarity` category. Then create a second chart showing the average `carat` per `clarity` category. Comment the results of the two charts in relation to the meaning of each clarity category name. "
   ]
  },
  {
   "cell_type": "code",
   "execution_count": null,
   "id": "244707f6-5151-4c24-93ad-5fc5da60cf86",
   "metadata": {},
   "outputs": [],
   "source": []
  },
  {
   "cell_type": "code",
   "execution_count": null,
   "id": "5cb9c3de-8e9e-4a4c-8e43-7e374d6c2312",
   "metadata": {},
   "outputs": [],
   "source": []
  },
  {
   "cell_type": "markdown",
   "id": "18d87851-76ac-4384-ab2d-ad3e263cfb1c",
   "metadata": {},
   "source": [
    "6. Let's investigate this further. Using the `dd` DataFrame, produce a scatterplot showing the relationship between the `carat` (on the x-axis) and the `price` (on the y-axis). Then, use the `clarity` variable to change the color of each circle (that is, of each diamond) in the chart. How can you interpret this chart visually, particularly in relation to the previous point?"
   ]
  },
  {
   "cell_type": "code",
   "execution_count": null,
   "id": "90cc222c-1ef6-4b49-90d8-ad6d3ba503f9",
   "metadata": {},
   "outputs": [],
   "source": []
  },
  {
   "cell_type": "markdown",
   "id": "61f6c875-877e-4342-a28b-59e007442c94",
   "metadata": {},
   "source": [
    "#### Advanced Exercises"
   ]
  },
  {
   "cell_type": "markdown",
   "id": "a605078f-1982-483b-8611-fc678f623d00",
   "metadata": {},
   "source": [
    "You are free to use whichever data visualisation library you prefer, although the Seaborn library is the recommended option."
   ]
  },
  {
   "cell_type": "markdown",
   "id": "bec3ebdf-e1b3-4e7e-91dd-fec6e908c338",
   "metadata": {},
   "source": [
    "1. Load the `taxis` dataset from the `seaborn` example dataset repository and call it `taxi`."
   ]
  },
  {
   "cell_type": "code",
   "execution_count": null,
   "id": "dfb621c9-249d-46e9-b5fb-f1da3828ad62",
   "metadata": {},
   "outputs": [],
   "source": []
  },
  {
   "cell_type": "markdown",
   "id": "95e4ee1f-8ab5-40c7-a7bc-20b0d713b294",
   "metadata": {},
   "source": [
    "2. Depending on the library version you have installed, the data type of the `pickup` and `dropoff` columns, may or may not be interpreted as date-times. Check the data type of the variables in the dataset and in case these are interpreted as strings (object data type), convert those two columns to date-time (remember to assign the result back to the column itself!). *(hint: check out [this Stack Overflow page](https://stackoverflow.com/questions/17134716/convert-dataframe-column-type-from-string-to-datetime) for a tip on how to do it)*"
   ]
  },
  {
   "cell_type": "code",
   "execution_count": null,
   "id": "1410aa68-8ab0-4402-ad78-d5bda2dfa76b",
   "metadata": {},
   "outputs": [],
   "source": []
  },
  {
   "cell_type": "code",
   "execution_count": null,
   "id": "f44769c1-e5d8-4040-a659-6b4f79f8616f",
   "metadata": {},
   "outputs": [],
   "source": []
  },
  {
   "cell_type": "markdown",
   "id": "6df4f4c5-97d2-49a1-96ca-5366516c8782",
   "metadata": {},
   "source": [
    " "
   ]
  },
  {
   "cell_type": "markdown",
   "id": "515bff50-1493-47fe-a2b1-3e67031be720",
   "metadata": {},
   "source": [
    "Given a date-time column, you can **extract a date-part** from it using the `dt` accessor. Say we wanted to create a new column called `pickup_date` where we [extract the date](https://pandas.pydata.org/docs/reference/api/pandas.Series.dt.date.html) from the `pickup` date-time object, we would write (run the cell below): "
   ]
  },
  {
   "cell_type": "code",
   "execution_count": null,
   "id": "6fb0c250-6bab-496d-a825-663b47c787bf",
   "metadata": {},
   "outputs": [],
   "source": [
    "# run this cell (do not delete)!\n",
    "taxi['pickup_date'] = taxi['pickup'].dt.date"
   ]
  },
  {
   "cell_type": "markdown",
   "id": "4eed1a72-22be-4e35-a3da-bcee950d3e92",
   "metadata": {},
   "source": [
    "3. Given what you just read, create: \n",
    "- a new column named `pickup_weekday` where you [extract the day of the week](https://pandas.pydata.org/docs/reference/api/pandas.DatetimeIndex.weekday.html) from the `pickup` date; \n",
    "- a new column named `pickup_hour` where you [extract the hour of the day](https://pandas.pydata.org/docs/reference/api/pandas.DatetimeIndex.hour.html)"
   ]
  },
  {
   "cell_type": "code",
   "execution_count": null,
   "id": "4f8860ff-e0dc-4402-9914-719cc19b8d6b",
   "metadata": {},
   "outputs": [],
   "source": []
  },
  {
   "cell_type": "markdown",
   "id": "d036fe0c-bae9-4ae8-ae3a-11a93356ac91",
   "metadata": {},
   "source": [
    "4. Create a bar chart that shows the number of rides that happened in each day of the week. Which day of the week is the busiest? *(hint: check out the documentation to find out which number corresponds to which weekday)*"
   ]
  },
  {
   "cell_type": "code",
   "execution_count": null,
   "id": "a08e9f41-58ce-4340-ab78-ddfeaf5e821e",
   "metadata": {},
   "outputs": [],
   "source": []
  },
  {
   "cell_type": "markdown",
   "id": "048f63e9-2c01-44d0-a27e-4f926853a5e8",
   "metadata": {},
   "source": [
    "5. Create a bar chart that shows the number of rides that happened in each hour of the day. Which hour of the day is the busiest?"
   ]
  },
  {
   "cell_type": "code",
   "execution_count": null,
   "id": "124043dc-2aa5-42ca-b932-9adccd344902",
   "metadata": {},
   "outputs": [],
   "source": []
  },
  {
   "cell_type": "markdown",
   "id": "68dd10fb-f540-455e-9e17-d4116df6a58c",
   "metadata": {},
   "source": [
    "6. Add a new column to the DataFrame called `tip_pct` that is the percentage of the `tip` relative to the `fare`. Then produce a bar chart that shows the average `tip_pct` by `pickup_zone`. Which borough tips the most relative to the fare paid? Would the ranking have changed if we just looked at the absolute tip value?"
   ]
  },
  {
   "cell_type": "code",
   "execution_count": null,
   "id": "484b7f36-dc33-4954-b5ab-42df313f0d64",
   "metadata": {},
   "outputs": [],
   "source": []
  },
  {
   "cell_type": "code",
   "execution_count": null,
   "id": "d54d4d47-d023-4404-9735-af1f04e3733a",
   "metadata": {},
   "outputs": [],
   "source": []
  },
  {
   "cell_type": "code",
   "execution_count": null,
   "id": "2c06b4ec-abc1-47cc-bfc1-ac4bd3c8de56",
   "metadata": {},
   "outputs": [],
   "source": []
  },
  {
   "cell_type": "code",
   "execution_count": null,
   "id": "e79d03b5-a52b-4b3a-b2a4-0891bee290cc",
   "metadata": {},
   "outputs": [],
   "source": []
  },
  {
   "cell_type": "markdown",
   "id": "a6ca1932-1018-4f66-ae74-2ec7c928cee2",
   "metadata": {},
   "source": [
    "7. Create a copy of the `taxi` DataFrame and call it `taxi_tip`. Then filter this new DataFrame so to only keep rows where the `tip` is greater than 0 (remember to assign the resulting DataFrame to itself in order to save the filtered view). "
   ]
  },
  {
   "cell_type": "code",
   "execution_count": null,
   "id": "a6761849-0847-4db2-81be-49eb5068e49b",
   "metadata": {},
   "outputs": [],
   "source": []
  },
  {
   "cell_type": "markdown",
   "id": "47f574e0-0466-4ecc-a2bc-2b44397731d6",
   "metadata": {},
   "source": [
    "8. Create a scatterplot showing the **relationship** between `fare` (on the x-axis) and `tip` (on the y-axis). Give a title to the chart and reset teh x- and y-axis labels to \"Ride Fare\" and \"Ride Tip\" respectively. "
   ]
  },
  {
   "cell_type": "code",
   "execution_count": null,
   "id": "d73e7c87-62c5-47d5-b4b6-045261d8383b",
   "metadata": {},
   "outputs": [],
   "source": []
  },
  {
   "cell_type": "markdown",
   "id": "0e89b896-795f-4223-9aae-2e8fec3471d9",
   "metadata": {},
   "source": [
    "9. The default settings of the scatterplot draw for each observation a solid circle with a white border. This can be quite heavy on the eye, especially if there are many observations close to each other. Look at the [documentation](https://seaborn.pydata.org/generated/seaborn.scatterplot.html) of the `sns.scatterplot()` function and use the `linewidth` and the `alpha` parameters to remove the white border and increase the transparency of each circle in the chart. "
   ]
  },
  {
   "cell_type": "code",
   "execution_count": null,
   "id": "58d4a1b2-b602-4b05-96bd-8552b64ecc62",
   "metadata": {},
   "outputs": [],
   "source": []
  },
  {
   "cell_type": "markdown",
   "id": "2cf342bf-ad7f-43fb-804a-196ba3a24859",
   "metadata": {},
   "source": [
    "10. Notice that between the Ride Fare values of 50 and 60 dollars, there is a vertical cluster of rides with the same fare amount (and different tip values). What is the exact value of this cluster anomaly? What do you think that is? *(hint: these fares are from NYC taxi rides, try to do a research on Google to see if you can find out more about it)*"
   ]
  },
  {
   "cell_type": "code",
   "execution_count": null,
   "id": "9ef4035b-20c3-4d35-a19a-2e9cb81432d7",
   "metadata": {},
   "outputs": [],
   "source": []
  }
 ],
 "metadata": {
  "kernelspec": {
   "display_name": "Python 3 (ipykernel)",
   "language": "python",
   "name": "python3"
  },
  "language_info": {
   "codemirror_mode": {
    "name": "ipython",
    "version": 3
   },
   "file_extension": ".py",
   "mimetype": "text/x-python",
   "name": "python",
   "nbconvert_exporter": "python",
   "pygments_lexer": "ipython3",
   "version": "3.9.7"
  }
 },
 "nbformat": 4,
 "nbformat_minor": 5
}
